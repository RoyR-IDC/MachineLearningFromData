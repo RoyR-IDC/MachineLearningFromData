{
 "cells": [
  {
   "cell_type": "markdown",
   "metadata": {
    "nbgrader": {
     "grade": false,
     "grade_id": "cell-6bd0516e7cb654f5",
     "locked": true,
     "schema_version": 1,
     "solution": false
    }
   },
   "source": [
    "# Exercise 2: Decision Trees\n",
    "\n",
    "In this assignment you will implement a Decision Tree algorithm as learned in class.\n",
    "\n",
    "## Read the following instructions carefully:\n",
    "\n",
    "1. This jupyter notebook contains all the step by step instructions needed for this exercise.\n",
    "1. Submission includes this notebook only with the exercise number and your ID as the filename. For example: `hw2_123456789_987654321.ipynb` if you submitted in pairs and `hw2_123456789.ipynb` if you submitted the exercise alone.\n",
    "1. Write **efficient vectorized** code whenever possible. Some calculations in this exercise take several minutes when implemented efficiently, and might take much longer otherwise. Unnecessary loops will result in point deduction.\n",
    "1. You are responsible for the correctness of your code and should add as many tests as you see fit. Tests will not be graded nor checked.\n",
    "1. Write your functions in this notebook only. **Do not create Python modules and import them**.\n",
    "1. You are allowed to use functions and methods from the [Python Standard Library](https://docs.python.org/3/library/) and [numpy](https://www.numpy.org/devdocs/reference/) only. **Do not import anything else.**\n",
    "1. Your code must run without errors. Make sure your `numpy` version is at least 1.15.4 and that you are using at least python 3.6. Changes of the configuration we provided are at your own risk. Any code that cannot run will not be graded.\n",
    "1. Write your own code. Cheating will not be tolerated.\n",
    "1. Answers to qualitative questions should be written in **markdown** cells (with $\\LaTeX$ support). Answers that will be written in commented code blocks will not be checked.\n",
    "\n",
    "## In this exercise you will perform the following:\n",
    "1. Practice OOP in python.\n",
    "2. Implement two impurity measures: Gini and Entropy.\n",
    "3. Construct a decision tree algorithm.\n",
    "4. Prune the tree to achieve better results.\n",
    "5. Visualize your results."
   ]
  },
  {
   "cell_type": "markdown",
   "metadata": {},
   "source": [
    "# I have read and understood the instructions: 203972922 201312907"
   ]
  },
  {
   "cell_type": "code",
   "execution_count": 209,
   "metadata": {
    "nbgrader": {
     "grade": false,
     "grade_id": "cell-ed9fe7b1026e33cb",
     "locked": true,
     "schema_version": 1,
     "solution": false
    }
   },
   "outputs": [],
   "source": [
    "import numpy as np\n",
    "import pandas as pd\n",
    "import matplotlib.pyplot as plt\n",
    "\n",
    "# make matplotlib figures appear inline in the notebook\n",
    "%matplotlib inline\n",
    "plt.rcParams['figure.figsize'] = (10.0, 8.0) # set default size of plots\n",
    "plt.rcParams['image.interpolation'] = 'nearest'\n",
    "plt.rcParams['image.cmap'] = 'gray'\n",
    "\n",
    "# Ignore warnings\n",
    "import warnings\n",
    "warnings.filterwarnings('ignore')"
   ]
  },
  {
   "cell_type": "markdown",
   "metadata": {
    "nbgrader": {
     "grade": false,
     "grade_id": "cell-c6ac605270c2b091",
     "locked": true,
     "schema_version": 1,
     "solution": false
    }
   },
   "source": [
    "## Warmup - OOP in python\n",
    "\n",
    "Our desicion tree will be implemented using a dedicated python class. Python classes are very similar to classes in Java.\n",
    "\n",
    "\n",
    "You can use the following [site](https://jeffknupp.com/blog/2014/06/18/improve-your-python-python-classes-and-object-oriented-programming/) to learn about classes in python."
   ]
  },
  {
   "cell_type": "code",
   "execution_count": 210,
   "metadata": {},
   "outputs": [],
   "source": [
    "class Node(object):\n",
    "    def __init__(self, data):\n",
    "        self.data = data\n",
    "        self.children = []\n",
    "\n",
    "    def add_child(self, node):\n",
    "        self.children.append(node)"
   ]
  },
  {
   "cell_type": "code",
   "execution_count": 211,
   "metadata": {},
   "outputs": [
    {
     "data": {
      "text/plain": [
       "[<__main__.Node at 0x11ff23a90>, <__main__.Node at 0x11ff42af0>]"
      ]
     },
     "execution_count": 211,
     "metadata": {},
     "output_type": "execute_result"
    }
   ],
   "source": [
    "n = Node(5)\n",
    "p = Node(6)\n",
    "q = Node(7)\n",
    "n.add_child(p)\n",
    "n.add_child(q)\n",
    "n.children"
   ]
  },
  {
   "cell_type": "markdown",
   "metadata": {
    "nbgrader": {
     "grade": false,
     "grade_id": "cell-2f1ceb251c649b62",
     "locked": true,
     "schema_version": 1,
     "solution": false
    }
   },
   "source": [
    "## Data preprocessing\n",
    "\n",
    "For the following exercise, we will use a dataset containing mushroom data `agaricus-lepiota.csv`. \n",
    "\n",
    "This data set includes descriptions of hypothetical samples corresponding to 23 species of gilled mushrooms in the Agaricus and Lepiota Family. Each species is identified as definitely edible, definitely poisonous, or of unknown edibility and not recommended. This latter class was combined with the poisonous\n",
    "one (=there are only two classes **edible** and **poisonous**). \n",
    "    \n",
    "The dataset contains 8124 observations with 22 features:\n",
    "1. cap-shape: bell=b,conical=c,convex=x,flat=f,knobbed=k,sunken=s\n",
    "2. cap-surface: fibrous=f,grooves=g,scaly=y,smooth=s\n",
    "3. cap-color: brown=n,buff=b,cinnamon=c,gray=g,green=r,pink=p,purple=u,red=e,white=w,yellow=y\n",
    "4. bruises: bruises=t,no=f\n",
    "5. odor: almond=a,anise=l,creosote=c,fishy=y,foul=f, musty=m,none=n,pungent=p,spicy=s\n",
    "6. gill-attachment: attached=a,descending=d,free=f,notched=n\n",
    "7. gill-spacing: close=c,crowded=w,distant=d\n",
    "8. gill-size: broad=b,narrow=n\n",
    "9. gill-color: black=k,brown=n,buff=b,chocolate=h,gray=g,green=r,orange=o,pink=p,purple=u,red=e,white=w,yellow=y\n",
    "10. stalk-shape: enlarging=e,tapering=t\n",
    "11. stalk-root: bulbous=b,club=c,cup=u,equal=e,rhizomorphs=z,rooted=r\n",
    "12. stalk-surface-above-ring: fibrous=f,scaly=y,silky=k,smooth=s\n",
    "13. stalk-surface-below-ring: fibrous=f,scaly=y,silky=k,smooth=s\n",
    "14. stalk-color-above-ring: brown=n,buff=b,cinnamon=c,gray=g,orange=o,pink=p,red=e,white=w,yellow=y\n",
    "15. stalk-color-below-ring: brown=n,buff=b,cinnamon=c,gray=g,orange=o,pink=p,red=e,white=w,yellow=y\n",
    "16. veil-type: partial=p,universal=u\n",
    "17. veil-color: brown=n,orange=o,white=w,yellow=y\n",
    "18. ring-number: none=n,one=o,two=t\n",
    "19. ring-type: cobwebby=c,evanescent=e,flaring=f,large=l,none=n,pendant=p,sheathing=s,zone=z\n",
    "20. spore-print-color: black=k,brown=n,buff=b,chocolate=h,green=r,orange=o,purple=u,white=w,yellow=y\n",
    "21. population: abundant=a,clustered=c,numerous=n,scattered=s,several=v,solitary=y\n",
    "22. habitat: grasses=g,leaves=l,meadows=m,paths=p,urban=u,waste=w,woods=d\n",
    "\n",
    "First, we will read and explore the data using pandas and the `.read_csv` method. Pandas is an open source library providing high-performance, easy-to-use data structures and data analysis tools for the Python programming language."
   ]
  },
  {
   "cell_type": "code",
   "execution_count": 212,
   "metadata": {
    "nbgrader": {
     "grade": false,
     "grade_id": "cell-d79cb4542926ad3f",
     "locked": true,
     "schema_version": 1,
     "solution": false
    }
   },
   "outputs": [],
   "source": [
    "# load dataset\n",
    "data = pd.read_csv('agaricus-lepiota.csv')"
   ]
  },
  {
   "cell_type": "markdown",
   "metadata": {},
   "source": [
    "#### EDA (Not Requested, but added anyway)"
   ]
  },
  {
   "cell_type": "code",
   "execution_count": 213,
   "metadata": {},
   "outputs": [
    {
     "data": {
      "text/html": [
       "<div>\n",
       "<style scoped>\n",
       "    .dataframe tbody tr th:only-of-type {\n",
       "        vertical-align: middle;\n",
       "    }\n",
       "\n",
       "    .dataframe tbody tr th {\n",
       "        vertical-align: top;\n",
       "    }\n",
       "\n",
       "    .dataframe thead th {\n",
       "        text-align: right;\n",
       "    }\n",
       "</style>\n",
       "<table border=\"1\" class=\"dataframe\">\n",
       "  <thead>\n",
       "    <tr style=\"text-align: right;\">\n",
       "      <th></th>\n",
       "      <th>cap-shape</th>\n",
       "      <th>cap-surface</th>\n",
       "      <th>cap-color</th>\n",
       "      <th>bruises</th>\n",
       "      <th>odor</th>\n",
       "      <th>gill-attachment</th>\n",
       "      <th>gill-spacing</th>\n",
       "      <th>gill-size</th>\n",
       "      <th>gill-color</th>\n",
       "      <th>stalk-shape</th>\n",
       "      <th>...</th>\n",
       "      <th>stalk-color-above-ring</th>\n",
       "      <th>stalk-color-below-ring</th>\n",
       "      <th>veil-type</th>\n",
       "      <th>veil-color</th>\n",
       "      <th>ring-number</th>\n",
       "      <th>ring-type</th>\n",
       "      <th>spore-print-color</th>\n",
       "      <th>population</th>\n",
       "      <th>habitat</th>\n",
       "      <th>class</th>\n",
       "    </tr>\n",
       "  </thead>\n",
       "  <tbody>\n",
       "    <tr>\n",
       "      <th>0</th>\n",
       "      <td>x</td>\n",
       "      <td>s</td>\n",
       "      <td>n</td>\n",
       "      <td>t</td>\n",
       "      <td>p</td>\n",
       "      <td>f</td>\n",
       "      <td>c</td>\n",
       "      <td>n</td>\n",
       "      <td>k</td>\n",
       "      <td>e</td>\n",
       "      <td>...</td>\n",
       "      <td>w</td>\n",
       "      <td>w</td>\n",
       "      <td>p</td>\n",
       "      <td>w</td>\n",
       "      <td>o</td>\n",
       "      <td>p</td>\n",
       "      <td>k</td>\n",
       "      <td>s</td>\n",
       "      <td>u</td>\n",
       "      <td>p</td>\n",
       "    </tr>\n",
       "    <tr>\n",
       "      <th>1</th>\n",
       "      <td>x</td>\n",
       "      <td>s</td>\n",
       "      <td>y</td>\n",
       "      <td>t</td>\n",
       "      <td>a</td>\n",
       "      <td>f</td>\n",
       "      <td>c</td>\n",
       "      <td>b</td>\n",
       "      <td>k</td>\n",
       "      <td>e</td>\n",
       "      <td>...</td>\n",
       "      <td>w</td>\n",
       "      <td>w</td>\n",
       "      <td>p</td>\n",
       "      <td>w</td>\n",
       "      <td>o</td>\n",
       "      <td>p</td>\n",
       "      <td>n</td>\n",
       "      <td>n</td>\n",
       "      <td>g</td>\n",
       "      <td>e</td>\n",
       "    </tr>\n",
       "    <tr>\n",
       "      <th>2</th>\n",
       "      <td>b</td>\n",
       "      <td>s</td>\n",
       "      <td>w</td>\n",
       "      <td>t</td>\n",
       "      <td>l</td>\n",
       "      <td>f</td>\n",
       "      <td>c</td>\n",
       "      <td>b</td>\n",
       "      <td>n</td>\n",
       "      <td>e</td>\n",
       "      <td>...</td>\n",
       "      <td>w</td>\n",
       "      <td>w</td>\n",
       "      <td>p</td>\n",
       "      <td>w</td>\n",
       "      <td>o</td>\n",
       "      <td>p</td>\n",
       "      <td>n</td>\n",
       "      <td>n</td>\n",
       "      <td>m</td>\n",
       "      <td>e</td>\n",
       "    </tr>\n",
       "    <tr>\n",
       "      <th>3</th>\n",
       "      <td>x</td>\n",
       "      <td>y</td>\n",
       "      <td>w</td>\n",
       "      <td>t</td>\n",
       "      <td>p</td>\n",
       "      <td>f</td>\n",
       "      <td>c</td>\n",
       "      <td>n</td>\n",
       "      <td>n</td>\n",
       "      <td>e</td>\n",
       "      <td>...</td>\n",
       "      <td>w</td>\n",
       "      <td>w</td>\n",
       "      <td>p</td>\n",
       "      <td>w</td>\n",
       "      <td>o</td>\n",
       "      <td>p</td>\n",
       "      <td>k</td>\n",
       "      <td>s</td>\n",
       "      <td>u</td>\n",
       "      <td>p</td>\n",
       "    </tr>\n",
       "    <tr>\n",
       "      <th>4</th>\n",
       "      <td>x</td>\n",
       "      <td>s</td>\n",
       "      <td>g</td>\n",
       "      <td>f</td>\n",
       "      <td>n</td>\n",
       "      <td>f</td>\n",
       "      <td>w</td>\n",
       "      <td>b</td>\n",
       "      <td>k</td>\n",
       "      <td>t</td>\n",
       "      <td>...</td>\n",
       "      <td>w</td>\n",
       "      <td>w</td>\n",
       "      <td>p</td>\n",
       "      <td>w</td>\n",
       "      <td>o</td>\n",
       "      <td>e</td>\n",
       "      <td>n</td>\n",
       "      <td>a</td>\n",
       "      <td>g</td>\n",
       "      <td>e</td>\n",
       "    </tr>\n",
       "    <tr>\n",
       "      <th>5</th>\n",
       "      <td>x</td>\n",
       "      <td>y</td>\n",
       "      <td>y</td>\n",
       "      <td>t</td>\n",
       "      <td>a</td>\n",
       "      <td>f</td>\n",
       "      <td>c</td>\n",
       "      <td>b</td>\n",
       "      <td>n</td>\n",
       "      <td>e</td>\n",
       "      <td>...</td>\n",
       "      <td>w</td>\n",
       "      <td>w</td>\n",
       "      <td>p</td>\n",
       "      <td>w</td>\n",
       "      <td>o</td>\n",
       "      <td>p</td>\n",
       "      <td>k</td>\n",
       "      <td>n</td>\n",
       "      <td>g</td>\n",
       "      <td>e</td>\n",
       "    </tr>\n",
       "    <tr>\n",
       "      <th>6</th>\n",
       "      <td>b</td>\n",
       "      <td>s</td>\n",
       "      <td>w</td>\n",
       "      <td>t</td>\n",
       "      <td>a</td>\n",
       "      <td>f</td>\n",
       "      <td>c</td>\n",
       "      <td>b</td>\n",
       "      <td>g</td>\n",
       "      <td>e</td>\n",
       "      <td>...</td>\n",
       "      <td>w</td>\n",
       "      <td>w</td>\n",
       "      <td>p</td>\n",
       "      <td>w</td>\n",
       "      <td>o</td>\n",
       "      <td>p</td>\n",
       "      <td>k</td>\n",
       "      <td>n</td>\n",
       "      <td>m</td>\n",
       "      <td>e</td>\n",
       "    </tr>\n",
       "    <tr>\n",
       "      <th>7</th>\n",
       "      <td>b</td>\n",
       "      <td>y</td>\n",
       "      <td>w</td>\n",
       "      <td>t</td>\n",
       "      <td>l</td>\n",
       "      <td>f</td>\n",
       "      <td>c</td>\n",
       "      <td>b</td>\n",
       "      <td>n</td>\n",
       "      <td>e</td>\n",
       "      <td>...</td>\n",
       "      <td>w</td>\n",
       "      <td>w</td>\n",
       "      <td>p</td>\n",
       "      <td>w</td>\n",
       "      <td>o</td>\n",
       "      <td>p</td>\n",
       "      <td>n</td>\n",
       "      <td>s</td>\n",
       "      <td>m</td>\n",
       "      <td>e</td>\n",
       "    </tr>\n",
       "    <tr>\n",
       "      <th>8</th>\n",
       "      <td>x</td>\n",
       "      <td>y</td>\n",
       "      <td>w</td>\n",
       "      <td>t</td>\n",
       "      <td>p</td>\n",
       "      <td>f</td>\n",
       "      <td>c</td>\n",
       "      <td>n</td>\n",
       "      <td>p</td>\n",
       "      <td>e</td>\n",
       "      <td>...</td>\n",
       "      <td>w</td>\n",
       "      <td>w</td>\n",
       "      <td>p</td>\n",
       "      <td>w</td>\n",
       "      <td>o</td>\n",
       "      <td>p</td>\n",
       "      <td>k</td>\n",
       "      <td>v</td>\n",
       "      <td>g</td>\n",
       "      <td>p</td>\n",
       "    </tr>\n",
       "    <tr>\n",
       "      <th>9</th>\n",
       "      <td>b</td>\n",
       "      <td>s</td>\n",
       "      <td>y</td>\n",
       "      <td>t</td>\n",
       "      <td>a</td>\n",
       "      <td>f</td>\n",
       "      <td>c</td>\n",
       "      <td>b</td>\n",
       "      <td>g</td>\n",
       "      <td>e</td>\n",
       "      <td>...</td>\n",
       "      <td>w</td>\n",
       "      <td>w</td>\n",
       "      <td>p</td>\n",
       "      <td>w</td>\n",
       "      <td>o</td>\n",
       "      <td>p</td>\n",
       "      <td>k</td>\n",
       "      <td>s</td>\n",
       "      <td>m</td>\n",
       "      <td>e</td>\n",
       "    </tr>\n",
       "  </tbody>\n",
       "</table>\n",
       "<p>10 rows × 22 columns</p>\n",
       "</div>"
      ],
      "text/plain": [
       "  cap-shape cap-surface cap-color bruises odor gill-attachment gill-spacing  \\\n",
       "0         x           s         n       t    p               f            c   \n",
       "1         x           s         y       t    a               f            c   \n",
       "2         b           s         w       t    l               f            c   \n",
       "3         x           y         w       t    p               f            c   \n",
       "4         x           s         g       f    n               f            w   \n",
       "5         x           y         y       t    a               f            c   \n",
       "6         b           s         w       t    a               f            c   \n",
       "7         b           y         w       t    l               f            c   \n",
       "8         x           y         w       t    p               f            c   \n",
       "9         b           s         y       t    a               f            c   \n",
       "\n",
       "  gill-size gill-color stalk-shape  ... stalk-color-above-ring  \\\n",
       "0         n          k           e  ...                      w   \n",
       "1         b          k           e  ...                      w   \n",
       "2         b          n           e  ...                      w   \n",
       "3         n          n           e  ...                      w   \n",
       "4         b          k           t  ...                      w   \n",
       "5         b          n           e  ...                      w   \n",
       "6         b          g           e  ...                      w   \n",
       "7         b          n           e  ...                      w   \n",
       "8         n          p           e  ...                      w   \n",
       "9         b          g           e  ...                      w   \n",
       "\n",
       "  stalk-color-below-ring veil-type veil-color ring-number ring-type  \\\n",
       "0                      w         p          w           o         p   \n",
       "1                      w         p          w           o         p   \n",
       "2                      w         p          w           o         p   \n",
       "3                      w         p          w           o         p   \n",
       "4                      w         p          w           o         e   \n",
       "5                      w         p          w           o         p   \n",
       "6                      w         p          w           o         p   \n",
       "7                      w         p          w           o         p   \n",
       "8                      w         p          w           o         p   \n",
       "9                      w         p          w           o         p   \n",
       "\n",
       "  spore-print-color population habitat class  \n",
       "0                 k          s       u     p  \n",
       "1                 n          n       g     e  \n",
       "2                 n          n       m     e  \n",
       "3                 k          s       u     p  \n",
       "4                 n          a       g     e  \n",
       "5                 k          n       g     e  \n",
       "6                 k          n       m     e  \n",
       "7                 n          s       m     e  \n",
       "8                 k          v       g     p  \n",
       "9                 k          s       m     e  \n",
       "\n",
       "[10 rows x 22 columns]"
      ]
     },
     "execution_count": 213,
     "metadata": {},
     "output_type": "execute_result"
    }
   ],
   "source": [
    "data.head(10)"
   ]
  },
  {
   "cell_type": "code",
   "execution_count": 214,
   "metadata": {},
   "outputs": [
    {
     "data": {
      "text/plain": [
       "f    4748\n",
       "t    3376\n",
       "Name: bruises, dtype: int64"
      ]
     },
     "execution_count": 214,
     "metadata": {},
     "output_type": "execute_result"
    }
   ],
   "source": [
    "data.iloc[:,3].value_counts()"
   ]
  },
  {
   "cell_type": "code",
   "execution_count": 215,
   "metadata": {},
   "outputs": [
    {
     "data": {
      "text/plain": [
       "f    7914\n",
       "a     210\n",
       "Name: gill-attachment, dtype: int64"
      ]
     },
     "execution_count": 215,
     "metadata": {},
     "output_type": "execute_result"
    }
   ],
   "source": [
    "data.iloc[:,5].value_counts()"
   ]
  },
  {
   "cell_type": "code",
   "execution_count": 216,
   "metadata": {},
   "outputs": [
    {
     "data": {
      "text/plain": [
       "p    8124\n",
       "Name: veil-type, dtype: int64"
      ]
     },
     "execution_count": 216,
     "metadata": {},
     "output_type": "execute_result"
    }
   ],
   "source": [
    "data.iloc[:,14].value_counts()"
   ]
  },
  {
   "cell_type": "code",
   "execution_count": 217,
   "metadata": {},
   "outputs": [
    {
     "data": {
      "text/plain": [
       "b    1728\n",
       "p    1492\n",
       "w    1202\n",
       "n    1048\n",
       "g     752\n",
       "h     732\n",
       "u     492\n",
       "k     408\n",
       "e      96\n",
       "y      86\n",
       "o      64\n",
       "r      24\n",
       "Name: gill-color, dtype: int64"
      ]
     },
     "execution_count": 217,
     "metadata": {},
     "output_type": "execute_result"
    }
   ],
   "source": [
    "data.iloc[:,8].value_counts()"
   ]
  },
  {
   "cell_type": "code",
   "execution_count": 218,
   "metadata": {},
   "outputs": [
    {
     "name": "stdout",
     "output_type": "stream",
     "text": [
      "<class 'pandas.core.frame.DataFrame'>\n",
      "RangeIndex: 8124 entries, 0 to 8123\n",
      "Data columns (total 22 columns):\n",
      " #   Column                    Non-Null Count  Dtype \n",
      "---  ------                    --------------  ----- \n",
      " 0   cap-shape                 8124 non-null   object\n",
      " 1   cap-surface               8124 non-null   object\n",
      " 2   cap-color                 8124 non-null   object\n",
      " 3   bruises                   8124 non-null   object\n",
      " 4   odor                      8124 non-null   object\n",
      " 5   gill-attachment           8124 non-null   object\n",
      " 6   gill-spacing              8124 non-null   object\n",
      " 7   gill-size                 8124 non-null   object\n",
      " 8   gill-color                8124 non-null   object\n",
      " 9   stalk-shape               8124 non-null   object\n",
      " 10  stalk-surface-above-ring  8124 non-null   object\n",
      " 11  stalk-surface-below-ring  8124 non-null   object\n",
      " 12  stalk-color-above-ring    8124 non-null   object\n",
      " 13  stalk-color-below-ring    8124 non-null   object\n",
      " 14  veil-type                 8124 non-null   object\n",
      " 15  veil-color                8124 non-null   object\n",
      " 16  ring-number               8124 non-null   object\n",
      " 17  ring-type                 8124 non-null   object\n",
      " 18  spore-print-color         8124 non-null   object\n",
      " 19  population                8124 non-null   object\n",
      " 20  habitat                   8124 non-null   object\n",
      " 21  class                     8124 non-null   object\n",
      "dtypes: object(22)\n",
      "memory usage: 1.4+ MB\n"
     ]
    }
   ],
   "source": [
    "data.info()"
   ]
  },
  {
   "cell_type": "code",
   "execution_count": 219,
   "metadata": {},
   "outputs": [
    {
     "data": {
      "text/html": [
       "<div>\n",
       "<style scoped>\n",
       "    .dataframe tbody tr th:only-of-type {\n",
       "        vertical-align: middle;\n",
       "    }\n",
       "\n",
       "    .dataframe tbody tr th {\n",
       "        vertical-align: top;\n",
       "    }\n",
       "\n",
       "    .dataframe thead th {\n",
       "        text-align: right;\n",
       "    }\n",
       "</style>\n",
       "<table border=\"1\" class=\"dataframe\">\n",
       "  <thead>\n",
       "    <tr style=\"text-align: right;\">\n",
       "      <th></th>\n",
       "      <th>cap-shape</th>\n",
       "      <th>cap-surface</th>\n",
       "      <th>cap-color</th>\n",
       "      <th>bruises</th>\n",
       "      <th>odor</th>\n",
       "      <th>gill-attachment</th>\n",
       "      <th>gill-spacing</th>\n",
       "      <th>gill-size</th>\n",
       "      <th>gill-color</th>\n",
       "      <th>stalk-shape</th>\n",
       "      <th>...</th>\n",
       "      <th>stalk-color-above-ring</th>\n",
       "      <th>stalk-color-below-ring</th>\n",
       "      <th>veil-type</th>\n",
       "      <th>veil-color</th>\n",
       "      <th>ring-number</th>\n",
       "      <th>ring-type</th>\n",
       "      <th>spore-print-color</th>\n",
       "      <th>population</th>\n",
       "      <th>habitat</th>\n",
       "      <th>class</th>\n",
       "    </tr>\n",
       "  </thead>\n",
       "  <tbody>\n",
       "    <tr>\n",
       "      <th>count</th>\n",
       "      <td>8124</td>\n",
       "      <td>8124</td>\n",
       "      <td>8124</td>\n",
       "      <td>8124</td>\n",
       "      <td>8124</td>\n",
       "      <td>8124</td>\n",
       "      <td>8124</td>\n",
       "      <td>8124</td>\n",
       "      <td>8124</td>\n",
       "      <td>8124</td>\n",
       "      <td>...</td>\n",
       "      <td>8124</td>\n",
       "      <td>8124</td>\n",
       "      <td>8124</td>\n",
       "      <td>8124</td>\n",
       "      <td>8124</td>\n",
       "      <td>8124</td>\n",
       "      <td>8124</td>\n",
       "      <td>8124</td>\n",
       "      <td>8124</td>\n",
       "      <td>8124</td>\n",
       "    </tr>\n",
       "    <tr>\n",
       "      <th>unique</th>\n",
       "      <td>6</td>\n",
       "      <td>4</td>\n",
       "      <td>10</td>\n",
       "      <td>2</td>\n",
       "      <td>9</td>\n",
       "      <td>2</td>\n",
       "      <td>2</td>\n",
       "      <td>2</td>\n",
       "      <td>12</td>\n",
       "      <td>2</td>\n",
       "      <td>...</td>\n",
       "      <td>9</td>\n",
       "      <td>9</td>\n",
       "      <td>1</td>\n",
       "      <td>4</td>\n",
       "      <td>3</td>\n",
       "      <td>5</td>\n",
       "      <td>9</td>\n",
       "      <td>6</td>\n",
       "      <td>7</td>\n",
       "      <td>2</td>\n",
       "    </tr>\n",
       "    <tr>\n",
       "      <th>top</th>\n",
       "      <td>x</td>\n",
       "      <td>y</td>\n",
       "      <td>n</td>\n",
       "      <td>f</td>\n",
       "      <td>n</td>\n",
       "      <td>f</td>\n",
       "      <td>c</td>\n",
       "      <td>b</td>\n",
       "      <td>b</td>\n",
       "      <td>t</td>\n",
       "      <td>...</td>\n",
       "      <td>w</td>\n",
       "      <td>w</td>\n",
       "      <td>p</td>\n",
       "      <td>w</td>\n",
       "      <td>o</td>\n",
       "      <td>p</td>\n",
       "      <td>w</td>\n",
       "      <td>v</td>\n",
       "      <td>d</td>\n",
       "      <td>e</td>\n",
       "    </tr>\n",
       "    <tr>\n",
       "      <th>freq</th>\n",
       "      <td>3656</td>\n",
       "      <td>3244</td>\n",
       "      <td>2284</td>\n",
       "      <td>4748</td>\n",
       "      <td>3528</td>\n",
       "      <td>7914</td>\n",
       "      <td>6812</td>\n",
       "      <td>5612</td>\n",
       "      <td>1728</td>\n",
       "      <td>4608</td>\n",
       "      <td>...</td>\n",
       "      <td>4464</td>\n",
       "      <td>4384</td>\n",
       "      <td>8124</td>\n",
       "      <td>7924</td>\n",
       "      <td>7488</td>\n",
       "      <td>3968</td>\n",
       "      <td>2388</td>\n",
       "      <td>4040</td>\n",
       "      <td>3148</td>\n",
       "      <td>4182</td>\n",
       "    </tr>\n",
       "  </tbody>\n",
       "</table>\n",
       "<p>4 rows × 22 columns</p>\n",
       "</div>"
      ],
      "text/plain": [
       "       cap-shape cap-surface cap-color bruises  odor gill-attachment  \\\n",
       "count       8124        8124      8124    8124  8124            8124   \n",
       "unique         6           4        10       2     9               2   \n",
       "top            x           y         n       f     n               f   \n",
       "freq        3656        3244      2284    4748  3528            7914   \n",
       "\n",
       "       gill-spacing gill-size gill-color stalk-shape  ...  \\\n",
       "count          8124      8124       8124        8124  ...   \n",
       "unique            2         2         12           2  ...   \n",
       "top               c         b          b           t  ...   \n",
       "freq           6812      5612       1728        4608  ...   \n",
       "\n",
       "       stalk-color-above-ring stalk-color-below-ring veil-type veil-color  \\\n",
       "count                    8124                   8124      8124       8124   \n",
       "unique                      9                      9         1          4   \n",
       "top                         w                      w         p          w   \n",
       "freq                     4464                   4384      8124       7924   \n",
       "\n",
       "       ring-number ring-type spore-print-color population habitat class  \n",
       "count         8124      8124              8124       8124    8124  8124  \n",
       "unique           3         5                 9          6       7     2  \n",
       "top              o         p                 w          v       d     e  \n",
       "freq          7488      3968              2388       4040    3148  4182  \n",
       "\n",
       "[4 rows x 22 columns]"
      ]
     },
     "execution_count": 219,
     "metadata": {},
     "output_type": "execute_result"
    }
   ],
   "source": [
    "data.describe(include='all')"
   ]
  },
  {
   "cell_type": "markdown",
   "metadata": {},
   "source": [
    "One of the advantages of the Decision Tree algorithm is that almost no preprocessing is required. However, finding missing values is always required."
   ]
  },
  {
   "cell_type": "code",
   "execution_count": 220,
   "metadata": {},
   "outputs": [
    {
     "name": "stdout",
     "output_type": "stream",
     "text": [
      "There are no missing values, and therefore no columns have been removed\n"
     ]
    }
   ],
   "source": [
    "#############################################################################\n",
    "# TODO: Find columns with missing values and remove them from the data.#\n",
    "#############################################################################\n",
    "\n",
    "columns_with_empty_value_list = data.columns[data.isna().any()].tolist()\n",
    "if len(columns_with_empty_value_list) != 0:\n",
    "    remove_columns_string = ', '.join(columns_with_empty_value_list)\n",
    "    print('The following columns [' + remove_columns_string + \\\n",
    "          '] have missing values in data, and therefore removed')\n",
    "    data = data.drop(columns_with_empty_value_list)\n",
    "else:\n",
    "    print('There are no missing values, and therefore no columns have been removed')\n",
    "    \n",
    "#############################################################################\n",
    "#                             END OF YOUR CODE                              #\n",
    "#############################################################################"
   ]
  },
  {
   "cell_type": "markdown",
   "metadata": {},
   "source": [
    "We will split the dataset to `Training` and `Testing` datasets."
   ]
  },
  {
   "cell_type": "code",
   "execution_count": 221,
   "metadata": {},
   "outputs": [
    {
     "name": "stdout",
     "output_type": "stream",
     "text": [
      "Training dataset shape:  (6093, 22)\n",
      "Testing dataset shape:  (2031, 22)\n"
     ]
    }
   ],
   "source": [
    "from sklearn.model_selection import train_test_split\n",
    "# Making sure the last column will hold the labels\n",
    "X, y = data.drop('class', axis=1), data['class']\n",
    "X = np.column_stack([X,y])   # <-- notice this ! very important\n",
    "# split dataset using random_state to get the same split each time\n",
    "X_train, X_test = train_test_split(X, random_state=99)\n",
    "\n",
    "print(\"Training dataset shape: \", X_train.shape)\n",
    "print(\"Testing dataset shape: \", X_test.shape)"
   ]
  },
  {
   "cell_type": "code",
   "execution_count": 222,
   "metadata": {},
   "outputs": [
    {
     "data": {
      "text/plain": [
       "(8124,)"
      ]
     },
     "execution_count": 222,
     "metadata": {},
     "output_type": "execute_result"
    }
   ],
   "source": [
    "y.shape"
   ]
  },
  {
   "cell_type": "code",
   "execution_count": 223,
   "metadata": {},
   "outputs": [
    {
     "name": "stdout",
     "output_type": "stream",
     "text": [
      "<class 'numpy.ndarray'>\n"
     ]
    }
   ],
   "source": [
    "print(type(X_train))"
   ]
  },
  {
   "cell_type": "markdown",
   "metadata": {
    "nbgrader": {
     "grade": false,
     "grade_id": "cell-fd7b0191f3f1e897",
     "locked": true,
     "schema_version": 1,
     "solution": false
    }
   },
   "source": [
    "## Impurity Measures\n",
    "\n",
    "Impurity is a measure of how often a randomly chosen element from the set would be incorrectly labeled if it was randomly labeled according to the distribution of labels in the subset. Implement the functions `calc_gini` and `calc_entropy`. You are encouraged to test your implementation (10 points)."
   ]
  },
  {
   "cell_type": "code",
   "execution_count": 224,
   "metadata": {},
   "outputs": [],
   "source": [
    "def calc_gini(data):\n",
    "    \"\"\"\n",
    "    Calculate gini impurity measure of a dataset.\n",
    " \n",
    "    Input:\n",
    "    - data: any dataset where the last column holds the labels.\n",
    " \n",
    "    Returns the gini impurity.    \n",
    "    \"\"\"\n",
    "    gini = 0.0\n",
    "    ###########################################################################\n",
    "    # TODO: Implement the function.                                           #\n",
    "    ###########################################################################\n",
    "    values, counts = np.unique(data[:,-1], return_counts=True)\n",
    "    classes_count_dict = dict(zip(values, counts))\n",
    "    \n",
    "    total_number_of_samples = len(data)\n",
    "    gini = 1\n",
    "    for class_name, number_of_samples_in_class in classes_count_dict.items():\n",
    "        class_probability = number_of_samples_in_class / total_number_of_samples\n",
    "        gini -= class_probability**2\n",
    "    ###########################################################################\n",
    "    #                             END OF YOUR CODE                            #\n",
    "    ###########################################################################\n",
    "    return gini"
   ]
  },
  {
   "cell_type": "code",
   "execution_count": 225,
   "metadata": {},
   "outputs": [],
   "source": [
    "def calc_entropy(data):\n",
    "    \"\"\"\n",
    "    Calculate the entropy of a dataset.\n",
    "\n",
    "    Input:\n",
    "    - data: any dataset where the last column holds the labels.\n",
    "\n",
    "    Returns the entropy of the dataset.    \n",
    "    \"\"\"\n",
    "    entropy = 0.0\n",
    "    ###########################################################################\n",
    "    # TODO: Implement the function.                                           #\n",
    "    ###########################################################################\n",
    "    values, counts = np.unique(data[:,-1], return_counts=True)\n",
    "    classes_count_dict = dict(zip(values, counts))\n",
    "    \n",
    "    total_number_of_samples = len(data)\n",
    "    entropy = 0.0  #unneeded\n",
    "    for class_name, number_of_samples_in_class in classes_count_dict.items():\n",
    "        class_probability = number_of_samples_in_class / total_number_of_samples\n",
    "        entropy -= class_probability*np.log2(class_probability)\n",
    "    ###########################################################################\n",
    "    #                             END OF YOUR CODE                            #\n",
    "    ###########################################################################\n",
    "    return entropy"
   ]
  },
  {
   "cell_type": "code",
   "execution_count": 226,
   "metadata": {},
   "outputs": [],
   "source": [
    "##### Your Tests Here #####\n",
    "np.testing.assert_almost_equal(calc_gini(X), 0.49956363)\n",
    "np.testing.assert_almost_equal(calc_entropy(X), 0.99937036)"
   ]
  },
  {
   "cell_type": "code",
   "execution_count": 227,
   "metadata": {
    "scrolled": true
   },
   "outputs": [],
   "source": [
    "##### Your Tests Here #####\n",
    "\n",
    "\n",
    "## Define data to work with\n",
    "# dataset with one sample 'e', one sample 'p' - an even dataset\n",
    "even_dataset = X_train[1:3,:]  \n",
    "values, counts = np.unique(even_dataset[:,-1], return_counts=True)\n",
    "class_counts = dict(zip(values, counts))\n",
    "assert class_counts['p'] == class_counts['e']\n",
    "\n",
    "# dataset with two samples from the same class\n",
    "one_class_dataset = X_train[0:2,:] \n",
    "values, counts = np.unique(one_class_dataset[:,-1], return_counts=True)\n",
    "class_counts = dict(zip(values, counts))\n",
    "assert class_counts['e'] == 2\n",
    "assert 'p' not in class_counts.keys()\n",
    "\n",
    "## Perform tests on Gini\n",
    "result = calc_gini(even_dataset)\n",
    "assert result == 0.5\n",
    "result = calc_gini(one_class_dataset)\n",
    "assert result == 0.0\n",
    "\n",
    "## Perform tests on Entropy\n",
    "result = calc_entropy(even_dataset)\n",
    "assert result == 1\n",
    "result = calc_entropy(one_class_dataset)\n",
    "assert result == 0.0"
   ]
  },
  {
   "cell_type": "markdown",
   "metadata": {},
   "source": [
    "## Goodness of Split\n",
    "\n",
    "Given a feature the Goodnees of Split measures the reduction in the impurity if we split the data according to the feature.\n",
    "$$\n",
    "\\Delta\\varphi(S, A) = \\varphi(S) - \\sum_{v\\in Values(A)} \\frac{|S_v|}{|S|}\\varphi(S_v)\n",
    "$$\n",
    "\n",
    "In our implementation the goodness_of_split function will return either the Goodness of Split or the Gain Ratio as learned in class. You'll control the return value with the `gain_ratio` parameter. If this parameter will set to False (the default value) it will return the regular Goodness of Split. If it will set to True it will return the Gain Ratio.\n",
    "$$\n",
    "GainRatio(S,A)=\\frac{InformationGain(S,A)}{SplitInformation(S,A)}\n",
    "$$\n",
    "Where:\n",
    "$$\n",
    "InformationGain(S,A)=Goodness\\ of\\ Split\\ calculated\\ with\\ Entropy\\ as\\ the\\ Impurity\\ function \\\\\n",
    "SplitInformation(S,A)=- \\sum_{a\\in A} \\frac{|S_a|}{|S|}\\log\\frac{|S_a|}{|S|}\n",
    "$$\n",
    "NOTE: you can add more parameters to the function and you can also add more returning variables (The given parameters and the given returning variable should not be touch). (10 Points)"
   ]
  },
  {
   "cell_type": "code",
   "execution_count": 228,
   "metadata": {},
   "outputs": [],
   "source": [
    "def goodness_of_split(data, feature, impurity_func, gain_ratio=False):\n",
    "    \"\"\"\n",
    "    Calculate the goodness of split of a dataset given a feature and impurity function.\n",
    "\n",
    "    Input:\n",
    "    - data: any dataset where the last column holds the labels.\n",
    "    - feature: the feature index.\n",
    "    - impurity func: a function that calculates the impurity.\n",
    "    - gain_ratio: goodness of split or (impurity_)gain ratio flag.\n",
    "\n",
    "    Returns the goodness of split (or the Gain Ratio).\n",
    "    \"\"\"\n",
    "    ###########################################################################\n",
    "    # TODO: Implement the function.                                           #\n",
    "    ###########################################################################\n",
    "        \n",
    "    values, counts = np.unique(data[:,feature], return_counts=True)\n",
    "    feature_value_counts = dict(zip(values, counts))\n",
    "        \n",
    "    total_number_of_samples = len(data[:,feature])\n",
    "        \n",
    "    # calculate the goodness according to gain ratio \n",
    "    if gain_ratio is True:  # Gain ratio\n",
    "        \n",
    "        # calculate information gain (using entropy)\n",
    "        weighted_impurities_list = [(feature_value_counts[feature_value] / total_number_of_samples) * \n",
    "                                     impurity_func(data[data[:, feature] == feature_value, :]) \n",
    "                                     for feature_value in feature_value_counts.keys()]\n",
    "        information_gain = impurity_func(data) - sum(weighted_impurities_list)\n",
    "        \n",
    "        # calculate split information\n",
    "        split_information = calc_entropy(data[:, feature].reshape(-1,1))\n",
    "                \n",
    "        # return value\n",
    "        goodness = information_gain / split_information\n",
    "        \n",
    "    else:  # Goodness of split\n",
    "        # calculate impurity\n",
    "        weighted_impurities_list = [(feature_value_counts[feature_value] / total_number_of_samples) * \n",
    "                                     impurity_func(data[data[:, feature] == feature_value, :]) \n",
    "                                     for feature_value in feature_value_counts]        \n",
    "        impurity_gain = impurity_func(data) - sum(weighted_impurities_list)\n",
    "        # return value\n",
    "        goodness = impurity_gain\n",
    "\n",
    "    ###########################################################################\n",
    "    # END OF YOUR CODE                                                        #\n",
    "    ###########################################################################\n",
    "    return goodness"
   ]
  },
  {
   "cell_type": "markdown",
   "metadata": {},
   "source": [
    "## Building a Decision Tree\n",
    "\n",
    "Use a Python class to construct the decision tree. Your class should support the following functionality:\n",
    "\n",
    "1. Initiating a node for a decision tree. You will need to use several class methods and class attributes and you are free to use them as you see fit. We recommend that every node will hold the feature and value used for the split and its children.\n",
    "2. Your code should support both Gini and Entropy as impurity measures. \n",
    "3. The provided data includes categorical data. In this exercise, when splitting a node create the number of children needed according to the attribute unique values.\n",
    "\n",
    "Complete the class `DecisionNode`. The structure of this class is entirely up to you. \n",
    "\n",
    "Complete the function `build_tree`. This function should get the training dataset and the impurity as inputs, initiate a root for the decision tree and construct the tree according to the procedure you learned in class. (30 points)"
   ]
  },
  {
   "cell_type": "code",
   "execution_count": 229,
   "metadata": {},
   "outputs": [],
   "source": [
    "class DecisionNode:\n",
    "    \"\"\"\n",
    "    This class will hold everything you require to construct a decision tree.\n",
    "    The structure of this class is up to you. However, you need to support basic \n",
    "    functionality as described above. It is highly recommended that you \n",
    "    first read and understand the entire exercise before diving into this class.\n",
    "    \"\"\"\n",
    "    def __init__(self, data, **kwargs):             \n",
    "        # save recieved args\n",
    "        self.data = data  \n",
    "        self.impurity_func = kwargs['impurity_func']\n",
    "        self.gain_ratio = kwargs['gain_ratio']\n",
    "        self.min_samples_split = kwargs['min_samples_split']\n",
    "        self.curr_depth = kwargs['curr_depth']  \n",
    "        self.max_depth = kwargs['max_depth']\n",
    "        self.feature = kwargs['feature'] # column index of criteria being tested in this node\n",
    "        self.split_value = kwargs['split_value']  # IMPORTANT: this represents the value which the PARENT gave in its split \n",
    "        \n",
    "        # create other node variables\n",
    "        self.children = [] # create children list\n",
    "        self.num_of_samples = self.data.shape[0]\n",
    "        self.num_of_features = self.data.shape[1]\n",
    "        self.is_leaf = False\n",
    "\n",
    "    def add_child(self, node):\n",
    "        self.children.append(node)\n",
    "    \n",
    "    def check_stop_condition(self):\n",
    "        \"\"\"\n",
    "        stopping conditions:\n",
    "        stop if pure\n",
    "        stop if \n",
    "        \"\"\"\n",
    "        # check sample size\n",
    "        if self.num_of_samples <= 1 or self.num_of_samples <= self.min_samples_split: \n",
    "            self.is_leaf = True\n",
    "            return True\n",
    "        \n",
    "        # check if pure\n",
    "        if self.check_if_pure() is True:\n",
    "            self.is_leaf = True\n",
    "            return True\n",
    "        \n",
    "        # check depth\n",
    "        if self.curr_depth > self.max_depth:\n",
    "            self.is_leaf = True\n",
    "            return True\n",
    "        \n",
    "        # if no condition was met, return false\n",
    "        return False\n",
    "    \n",
    "    def check_if_pure(self):\n",
    "        # assuming last feature is class\n",
    "        unique_values = np.unique(self.data[:,-1])\n",
    "        if len(unique_values) == 1:\n",
    "            return True\n",
    "        else:\n",
    "            False\n",
    "    \n",
    "    def find_best_feature_for_split(self):\n",
    "        best_feature_for_split = None\n",
    "        best_goodness = -1\n",
    "        \n",
    "        for feature in range(self.num_of_features -1):  # last column is labels column always\n",
    "            goodness = goodness_of_split(\n",
    "                data=self.data, \n",
    "                feature=feature, \n",
    "                impurity_func=self.impurity_func, \n",
    "                gain_ratio=self.gain_ratio)\n",
    "                        \n",
    "            if goodness > best_goodness:  #TODO: verify logic\n",
    "                best_goodness = goodness\n",
    "                best_feature_for_split = feature\n",
    "                \n",
    "        # Important Logic ! goodness is 0 only when impurity gain is 0 == when there is only a single class.\n",
    "        #                   this means, we do not need a feature for split - this should be a leaf ! \n",
    "        #                   this is handled by the calling function (create_children())\n",
    "        if best_goodness == 0.0:\n",
    "            return None\n",
    "        \n",
    "        return best_feature_for_split\n",
    "    \n",
    "    def create_children(self):\n",
    "        if self.check_stop_condition() is True:\n",
    "            self.is_leaf = True\n",
    "            return\n",
    "        \n",
    "        best_feature = self.find_best_feature_for_split()\n",
    "        if best_feature is None:  \n",
    "            # see note inside find_best_feature_for_split() regarding this return output\n",
    "            self.is_leaf = True\n",
    "            return\n",
    "        else:\n",
    "            self.feature = best_feature  ### IMPORTANT LOGIC\n",
    "                    \n",
    "        unique_values = np.unique(self.data[:,best_feature])\n",
    "        for value in unique_values:\n",
    "            \n",
    "            subset = self.data[self.data[:, best_feature] == value, :]\n",
    "            params = {\n",
    "                'feature': best_feature,  #important logic ! this updates if the child node does not get to stop condition inside \"find_best_feature_for_split\"\n",
    "                'split_value': value,\n",
    "                'impurity_func':self.impurity_func,\n",
    "                'gain_ratio': self.gain_ratio,\n",
    "                'min_samples_split': self.min_samples_split,\n",
    "                'curr_depth':self.curr_depth + 1,\n",
    "                'max_depth': self.max_depth,\n",
    "            }\n",
    "            new_node = DecisionNode(subset, **params)\n",
    "            self.add_child(new_node)\n",
    "    \n",
    "    def grow(self):  #recursive\n",
    "        # try to create children\n",
    "        self.create_children()\n",
    "        \n",
    "        # try to grow with each child\n",
    "        for child in self.children:\n",
    "            child.grow()\n",
    "            "
   ]
  },
  {
   "cell_type": "code",
   "execution_count": 230,
   "metadata": {},
   "outputs": [],
   "source": [
    "def build_tree(data, impurity, gain_ratio=False, min_samples_split=1, max_depth=1000):\n",
    "    \"\"\"\n",
    "    Build a tree using the given impurity measure and training dataset. \n",
    "    You are required to fully grow the tree until all leaves are pure. \n",
    "\n",
    "    Input:\n",
    "    - data: the training dataset.\n",
    "    - impurity: the chosen impurity measure. Notice that you can send a function\n",
    "                as an argument in python.\n",
    "    - gain_ratio: goodness of split or gain ratio flag\n",
    "    - min_samples_split: the minimum number of samples required to split an internal node\n",
    "    - max_depth: the allowable depth of the tree\n",
    "\n",
    "    Output: the root node of the tree.\n",
    "    \"\"\"\n",
    "    root = None\n",
    "    ###########################################################################\n",
    "    # TODO: Implement the function.                                           #\n",
    "    ###########################################################################\n",
    "    params = {\n",
    "        'feature': None,\n",
    "        'split_value': None,\n",
    "        'impurity_func':impurity,\n",
    "        'gain_ratio':gain_ratio,\n",
    "        'min_samples_split':min_samples_split,\n",
    "        'curr_depth':0,\n",
    "        'max_depth':max_depth,\n",
    "    }\n",
    "    root = DecisionNode(data, **params)\n",
    "    root.grow()\n",
    "    ###########################################################################\n",
    "    #                             END OF YOUR CODE                            #\n",
    "    ###########################################################################\n",
    "    return root"
   ]
  },
  {
   "cell_type": "code",
   "execution_count": 231,
   "metadata": {},
   "outputs": [
    {
     "name": "stdout",
     "output_type": "stream",
     "text": [
      "CPU times: user 5.18 s, sys: 114 ms, total: 5.29 s\n",
      "Wall time: 5.82 s\n"
     ]
    }
   ],
   "source": [
    "%%time\n",
    "tree_gini = build_tree(data=X_train, impurity=calc_gini) # gini and goodness of split"
   ]
  },
  {
   "cell_type": "code",
   "execution_count": 232,
   "metadata": {},
   "outputs": [
    {
     "name": "stdout",
     "output_type": "stream",
     "text": [
      "CPU times: user 6.28 s, sys: 157 ms, total: 6.44 s\n",
      "Wall time: 7.49 s\n"
     ]
    }
   ],
   "source": [
    "%%time\n",
    "tree_entropy = build_tree(data=X_train, impurity=calc_entropy) # entropy and goodness of split"
   ]
  },
  {
   "cell_type": "code",
   "execution_count": 233,
   "metadata": {},
   "outputs": [
    {
     "name": "stdout",
     "output_type": "stream",
     "text": [
      "CPU times: user 6.94 s, sys: 119 ms, total: 7.06 s\n",
      "Wall time: 7.72 s\n"
     ]
    }
   ],
   "source": [
    "%%time\n",
    "tree_entropy_gain_ratio = build_tree(data=X_train, impurity=calc_entropy, gain_ratio=True) # entropy and gain ratio"
   ]
  },
  {
   "cell_type": "markdown",
   "metadata": {},
   "source": [
    "## Tree evaluation\n",
    "\n",
    "Complete the functions `predict` and `calc_accuracy`. (10 points)"
   ]
  },
  {
   "cell_type": "code",
   "execution_count": 234,
   "metadata": {},
   "outputs": [],
   "source": [
    "def predict(node, instance):\n",
    "    \"\"\"\n",
    "    Predict a given instance using the decision tree\n",
    " \n",
    "    Input:\n",
    "    - root: the root of the decision tree.\n",
    "    - instance: an row vector from the dataset. Note that the last element \n",
    "                of this vector is the label of the instance.\n",
    " \n",
    "    Output: the prediction of the instance.\n",
    "    \"\"\"\n",
    "    pred = None\n",
    "    ###########################################################################\n",
    "    # TODO: Implement the function.                                           #\n",
    "    ###########################################################################\n",
    "    curr_node = node\n",
    "    problem_flag = False\n",
    "        \n",
    "    while not curr_node.is_leaf:\n",
    "        found_child_flag = False\n",
    "        correct_child = None\n",
    "        tested_feature = curr_node.feature\n",
    "        for child in curr_node.children:\n",
    "            if child.split_value == instance[tested_feature]:\n",
    "                curr_node = child\n",
    "                found_child_flag = True\n",
    "                break\n",
    "        \n",
    "        if found_child_flag is False:\n",
    "            ## if we got here, no child was found. I HAVE LEARNED THIS MIGHT MEAN THAT A FEATURE VALUE IN THE TEST SET DID NOT APPEAR IN THE TRAIN SET\n",
    "            return None\n",
    "    \n",
    "    # getting here means we found the correct leaf\n",
    "    values, counts = np.unique(curr_node.data[:,-1], return_counts=True)\n",
    "    class_counts = dict(zip(values, counts))\n",
    "\n",
    "    # majority vote !\n",
    "    prediction =  max(class_counts, key=class_counts.get)\n",
    "\n",
    "    ###########################################################################\n",
    "    #                             END OF YOUR CODE                            #\n",
    "    ###########################################################################\n",
    "    # return node.pred\n",
    "    return prediction"
   ]
  },
  {
   "cell_type": "code",
   "execution_count": 235,
   "metadata": {},
   "outputs": [],
   "source": [
    "def calc_accuracy(node, dataset):\n",
    "    \"\"\"\n",
    "    Predict a given dataset using the decision tree\n",
    " \n",
    "    Input:\n",
    "    - node: a node in the decision tree.\n",
    "    - dataset: the dataset on which the accuracy is evaluated\n",
    " \n",
    "    Output: the accuracy of the decision tree on the given dataset (%).\n",
    "    \"\"\"\n",
    "    accuracy = 0\n",
    "    ###########################################################################\n",
    "    # TODO: Implement the function.                                           #\n",
    "    ###########################################################################\n",
    "    y_true = dataset[:,-1]\n",
    "    y_pred = [predict(node, i_row) for i_row in dataset] \n",
    "    assert len(y_pred) == len(y_true)\n",
    "    accuracy = (y_pred == y_true).mean()\n",
    "    ###########################################################################\n",
    "    #                             END OF YOUR CODE                            #\n",
    "    ###########################################################################\n",
    "    return accuracy "
   ]
  },
  {
   "cell_type": "markdown",
   "metadata": {},
   "source": [
    "After building the three trees using the training set, you should calculate the accuracy on the test set. For each tree print the training and test accuracy. Select the tree that gave you the best test accuracy. For the rest of the exercise, use that tree (when you asked to build another tree use the same impurity function and same gain_ratio flag). "
   ]
  },
  {
   "cell_type": "code",
   "execution_count": 236,
   "metadata": {},
   "outputs": [
    {
     "name": "stdout",
     "output_type": "stream",
     "text": [
      "Gini: train accuracy 0.9924503528639422\n",
      "Gini: test accuracy 0.7671097981290005\n",
      "CPU times: user 358 ms, sys: 17 ms, total: 375 ms\n",
      "Wall time: 391 ms\n"
     ]
    }
   ],
   "source": [
    "%%time\n",
    "print(f'Gini: train accuracy {calc_accuracy(tree_gini, X_train)}')\n",
    "print(f'Gini: test accuracy {calc_accuracy(tree_gini, X_test)}')"
   ]
  },
  {
   "cell_type": "code",
   "execution_count": 237,
   "metadata": {},
   "outputs": [
    {
     "name": "stdout",
     "output_type": "stream",
     "text": [
      "Entropy: train accuracy 0.9940915805022157\n",
      "Entropy: test accuracy 0.7621861152141802\n",
      "CPU times: user 340 ms, sys: 30.6 ms, total: 371 ms\n",
      "Wall time: 370 ms\n"
     ]
    }
   ],
   "source": [
    "%%time\n",
    "print(f'Entropy: train accuracy {calc_accuracy(tree_entropy, X_train)}')\n",
    "print(f'Entropy: test accuracy {calc_accuracy(tree_entropy, X_test)}')"
   ]
  },
  {
   "cell_type": "code",
   "execution_count": 238,
   "metadata": {},
   "outputs": [
    {
     "name": "stdout",
     "output_type": "stream",
     "text": [
      "Gain ratio: train accuracy 0.9963892991957984\n",
      "Gain ratio: test accuracy 0.7641555883801083\n",
      "CPU times: user 321 ms, sys: 30.5 ms, total: 351 ms\n",
      "Wall time: 335 ms\n"
     ]
    }
   ],
   "source": [
    "%%time\n",
    "print(f'Gain ratio: train accuracy {calc_accuracy(tree_entropy_gain_ratio, X_train)}')\n",
    "print(f'Gain ratio: test accuracy {calc_accuracy(tree_entropy_gain_ratio, X_test)}')"
   ]
  },
  {
   "cell_type": "markdown",
   "metadata": {},
   "source": [
    "## Depth pruning\n",
    "\n",
    "(15 points)\n",
    "\n",
    "Consider the following max_depth values: [1, 2, 3, 4, 5, 6, 7, 8]. For each value, construct a tree and prune it according to the max_depth value = don't let the tree to grow beyond this depth. Next, calculate the training and testing accuracy.<br>\n",
    "On a single plot, draw the training and testing accuracy as a function of the max_depth. Mark the best result on the graph with red circle."
   ]
  },
  {
   "cell_type": "code",
   "execution_count": 239,
   "metadata": {},
   "outputs": [
    {
     "name": "stdout",
     "output_type": "stream",
     "text": [
      "now building tree with max depth 1\n",
      "now building tree with max depth 2\n",
      "now building tree with max depth 3\n",
      "now building tree with max depth 4\n",
      "now building tree with max depth 5\n",
      "now building tree with max depth 6\n",
      "now building tree with max depth 7\n",
      "now building tree with max depth 8\n",
      "CPU times: user 17.9 s, sys: 245 ms, total: 18.1 s\n",
      "Wall time: 19.1 s\n"
     ]
    }
   ],
   "source": [
    "%%time\n",
    "#### Your code here ####\n",
    "depths = [1, 2, 3, 4, 5, 6, 7, 8]\n",
    "trees_dict_depth = dict()\n",
    "for depth in depths:\n",
    "    print(f'now building tree with max depth {depth}')\n",
    "    trees_dict_depth[depth] = build_tree(X_train, calc_entropy, gain_ratio=True, min_samples_split=1, max_depth=depth)"
   ]
  },
  {
   "cell_type": "code",
   "execution_count": 240,
   "metadata": {},
   "outputs": [
    {
     "name": "stdout",
     "output_type": "stream",
     "text": [
      "CPU times: user 6.54 s, sys: 96.3 ms, total: 6.64 s\n",
      "Wall time: 6.8 s\n"
     ]
    }
   ],
   "source": [
    "%%time\n",
    "# predictions training\n",
    "train_predictions = dict()\n",
    "for depth in depths:\n",
    "    train_predictions[depth] = calc_accuracy(trees_dict_depth[depth], X_train)"
   ]
  },
  {
   "cell_type": "code",
   "execution_count": 241,
   "metadata": {},
   "outputs": [
    {
     "name": "stdout",
     "output_type": "stream",
     "text": [
      "CPU times: user 2.53 s, sys: 46.1 ms, total: 2.57 s\n",
      "Wall time: 2.85 s\n"
     ]
    }
   ],
   "source": [
    "%%time\n",
    "# predictions test\n",
    "test_predictions = dict()\n",
    "best_score_depth = 0\n",
    "best_metric_depth = None\n",
    "for depth in depths:\n",
    "    test_predictions[depth] = calc_accuracy(trees_dict_depth[depth], X_test)\n",
    "    if test_predictions[depth] > best_score_depth:\n",
    "        best_score_depth = test_predictions[depth]\n",
    "        best_metric_depth = depth"
   ]
  },
  {
   "cell_type": "code",
   "execution_count": 242,
   "metadata": {},
   "outputs": [
    {
     "data": {
      "image/png": "[encoded data removed]",
      "text/plain": [
       "<Figure size 720x576 with 1 Axes>"
      ]
     },
     "metadata": {
      "needs_background": "light"
     },
     "output_type": "display_data"
    },
    {
     "name": "stdout",
     "output_type": "stream",
     "text": [
      "CPU times: user 242 ms, sys: 10.9 ms, total: 253 ms\n",
      "Wall time: 253 ms\n"
     ]
    }
   ],
   "source": [
    "%%time\n",
    "\n",
    "plt.figure()\n",
    "plt.plot(train_predictions.keys(), train_predictions.values(), color='b', label='Train Scores')\n",
    "plt.plot(test_predictions.keys(), test_predictions.values(), color='r', label='Test Scores')\n",
    "\n",
    "from matplotlib.patches import Ellipse\n",
    "circle = Ellipse((best_metric_depth, best_score_depth), width=0.3, height=0.007, color='r', fill=False, label='Best Test Score')\n",
    "fig = plt.gcf()\n",
    "ax = fig.gca()\n",
    "ax.add_patch(circle)\n",
    "\n",
    "plt.xlabel('Max Depth')\n",
    "plt.ylabel('Score')\n",
    "plt.legend()\n",
    "plt.grid()\n",
    "plt.show()"
   ]
  },
  {
   "cell_type": "markdown",
   "metadata": {},
   "source": [
    "## Min Samples Split\n",
    "\n",
    "(15 points)\n",
    "\n",
    "Consider the following min_samples_split values: [1, 5, 10, 20, 50]. For each value, construct a tree and prune it according to the min_samples_split value = don't split a node if the number of sample in it is less or equal to the min_samples_split value. Next, calculate the training and testing accuracy.<br>\n",
    "On a single plot, draw the training and testing accuracy as a function of the min_samples_split. Mark the best result on the graph with red circle. (make sure that the x-axis ticks represent the values of min_samples_split)"
   ]
  },
  {
   "cell_type": "code",
   "execution_count": 243,
   "metadata": {},
   "outputs": [
    {
     "name": "stdout",
     "output_type": "stream",
     "text": [
      "now building tree with min_samples_split_value 1\n",
      "now building tree with min_samples_split_value 5\n",
      "now building tree with min_samples_split_value 10\n",
      "now building tree with min_samples_split_value 20\n",
      "now building tree with min_samples_split_value 50\n",
      "CPU times: user 17.4 s, sys: 216 ms, total: 17.6 s\n",
      "Wall time: 19.4 s\n"
     ]
    }
   ],
   "source": [
    "%%time\n",
    "#### Your code here ####\n",
    "min_samples_split_values =  [1, 5, 10, 20, 50]  # takes about 6 mins\n",
    "min_samples_split_values_trees_dict = dict()\n",
    "for value in min_samples_split_values:\n",
    "    print(f'now building tree with min_samples_split_value {value}')\n",
    "    min_samples_split_values_trees_dict[value] = build_tree(X_train, calc_entropy, gain_ratio=True, min_samples_split=value, max_depth=1000)"
   ]
  },
  {
   "cell_type": "code",
   "execution_count": 244,
   "metadata": {},
   "outputs": [
    {
     "name": "stdout",
     "output_type": "stream",
     "text": [
      "CPU times: user 1.82 s, sys: 42.9 ms, total: 1.86 s\n",
      "Wall time: 1.87 s\n"
     ]
    }
   ],
   "source": [
    "%%time\n",
    "# predictions training\n",
    "min_samples_split_values_train_predictions = dict()\n",
    "for value in min_samples_split_values:\n",
    "    min_samples_split_values_train_predictions[value] = calc_accuracy(min_samples_split_values_trees_dict[value], X_train)"
   ]
  },
  {
   "cell_type": "code",
   "execution_count": 245,
   "metadata": {},
   "outputs": [
    {
     "name": "stdout",
     "output_type": "stream",
     "text": [
      "CPU times: user 483 ms, sys: 23.1 ms, total: 506 ms\n",
      "Wall time: 506 ms\n"
     ]
    }
   ],
   "source": [
    "%%time\n",
    "# predictions test\n",
    "min_samples_split_values_test_predictions = dict()\n",
    "best_score_min_samples_split = 0\n",
    "best_metric_min_samples_split = None\n",
    "for value in min_samples_split_values:\n",
    "    min_samples_split_values_test_predictions[value] = calc_accuracy(min_samples_split_values_trees_dict[value], X_test)\n",
    "    if min_samples_split_values_test_predictions[value] > best_score_min_samples_split:\n",
    "        best_score_min_samples_split = min_samples_split_values_test_predictions[value]\n",
    "        best_metric_min_samples_split = value"
   ]
  },
  {
   "cell_type": "code",
   "execution_count": 246,
   "metadata": {},
   "outputs": [
    {
     "data": {
      "image/png": "[encoded data removed]",
      "text/plain": [
       "<Figure size 720x576 with 1 Axes>"
      ]
     },
     "metadata": {
      "needs_background": "light"
     },
     "output_type": "display_data"
    },
    {
     "name": "stdout",
     "output_type": "stream",
     "text": [
      "CPU times: user 241 ms, sys: 12.6 ms, total: 254 ms\n",
      "Wall time: 250 ms\n"
     ]
    }
   ],
   "source": [
    "%%time\n",
    "plt.figure()\n",
    "plt.plot(min_samples_split_values_train_predictions.keys(), min_samples_split_values_train_predictions.values(), color='b', label='Train Scores')\n",
    "plt.plot(min_samples_split_values_test_predictions.keys(), min_samples_split_values_test_predictions.values(), color='r', label='Test Scores')\n",
    "\n",
    "from matplotlib.patches import Ellipse\n",
    "circle = Ellipse((best_metric_min_samples_split, best_score_min_samples_split), width=1, height=0.01, color='r', fill=False, label='Best Test Score')\n",
    "fig = plt.gcf()\n",
    "ax = fig.gca()\n",
    "ax.add_patch(circle)\n",
    "\n",
    "plt.xlabel('Minimum sampels split value')\n",
    "plt.ylabel('Score')\n",
    "plt.legend()\n",
    "plt.grid()\n",
    "plt.show()"
   ]
  },
  {
   "cell_type": "markdown",
   "metadata": {},
   "source": [
    "Build the best 2 trees:\n",
    "1. tree_max_depth - the best tree according to max_depth pruning\n",
    "1. tree_min_samples_split - the best tree according to min_samples_split pruning"
   ]
  },
  {
   "cell_type": "code",
   "execution_count": 247,
   "metadata": {},
   "outputs": [],
   "source": [
    "#### Your code here ####\n",
    "\n",
    "tree_max_depth = trees_dict_depth[best_metric_depth]\n",
    "tree_min_samples_split = min_samples_split_values_trees_dict[best_metric_min_samples_split]"
   ]
  },
  {
   "cell_type": "markdown",
   "metadata": {},
   "source": [
    "## Number of Nodes\n",
    "\n",
    "(5 points)\n",
    "\n",
    "Complete the function counts_nodes and print the number of nodes in each tree and print the number of nodes of the two trees above"
   ]
  },
  {
   "cell_type": "code",
   "execution_count": 248,
   "metadata": {},
   "outputs": [],
   "source": [
    "def count_nodes(node):\n",
    "    \"\"\"\n",
    "    Count the number of node in a given tree\n",
    " \n",
    "    Input:\n",
    "    - node: a node in the decision tree.\n",
    " \n",
    "    Output: the number of node in the tree.\n",
    "    \"\"\"\n",
    "    ###########################################################################\n",
    "    # TODO: Implement the function.                                           #\n",
    "    ###########################################################################\n",
    "    if node.is_leaf:\n",
    "        return 1\n",
    "    \n",
    "    # else may have many children\n",
    "    sum_children = 0\n",
    "    for child in node.children:\n",
    "        sum_children += count_nodes(child)\n",
    "        \n",
    "    return sum_children + 1  # (plus me)\n",
    "    ###########################################################################\n",
    "    #                             END OF YOUR CODE                            #\n",
    "    ###########################################################################\n",
    "    "
   ]
  },
  {
   "cell_type": "code",
   "execution_count": 249,
   "metadata": {},
   "outputs": [
    {
     "data": {
      "text/plain": [
       "205"
      ]
     },
     "execution_count": 249,
     "metadata": {},
     "output_type": "execute_result"
    }
   ],
   "source": [
    "count_nodes(tree_max_depth)"
   ]
  },
  {
   "cell_type": "code",
   "execution_count": 250,
   "metadata": {},
   "outputs": [
    {
     "data": {
      "text/plain": [
       "349"
      ]
     },
     "execution_count": 250,
     "metadata": {},
     "output_type": "execute_result"
    }
   ],
   "source": [
    "count_nodes(tree_min_samples_split)"
   ]
  },
  {
   "cell_type": "markdown",
   "metadata": {},
   "source": [
    "## Print the tree\n",
    "\n",
    "Complete the function `print_tree`. Your tree should be visualized clearly. You can use the following example as a reference:\n",
    "```\n",
    "[ROOT, feature=X0],\n",
    "  [X0=a, feature=X2]\n",
    "    [X2=c, leaf]: [{1.0: 10}]\n",
    "    [X2=d, leaf]: [{0.0: 10}]\n",
    "  [X0=y, feature=X5], \n",
    "    [X5=a, leaf]: [{1.0: 5}]\n",
    "    [X5=s, leaf]: [{0.0: 10}]\n",
    "  [X0=e, leaf]: [{0.0: 25, 1.0: 50}]\n",
    "```\n",
    "In each brackets:\n",
    "* The first argument is the parent feature with the value that led to current node\n",
    "* The second argument is the selected feature of the current node\n",
    "* If the current node is a leaf, you need to print also the labels and their counts\n",
    "\n",
    "(5 points)"
   ]
  },
  {
   "cell_type": "code",
   "execution_count": 251,
   "metadata": {},
   "outputs": [],
   "source": [
    "# you can change the function signeture\n",
    "def print_tree(node, depth=0, parent_feature='ROOT', feature_val='ROOT'):\n",
    "    '''\n",
    "    prints the tree according to the example above\n",
    "\n",
    "    Input:\n",
    "    - node: a node in the decision tree\n",
    "\n",
    "    This function has no return value\n",
    "    '''\n",
    "    ###########################################################################\n",
    "    # TODO: Implement the function.                                           #\n",
    "    ###########################################################################\n",
    "    spacing = \" \" * depth\n",
    "    spacing = \"| \" * depth\n",
    "    left =  \"[\"\n",
    "    right = \"]\"\n",
    "    \n",
    "    if node.is_leaf is True:\n",
    "        if parent_feature == 'ROOT':\n",
    "            print(f'One node tree ...')\n",
    "            return\n",
    "        values, counts = np.unique(node.data[:,-1], return_counts=True)\n",
    "        predictions = dict(zip(values, counts))\n",
    "        print(spacing + left + 'X' + str(parent_feature) + '=' + feature_val + ', leaf' + right + ': ' + left + str(predictions) +right) # Bonus:  + f' sample size {node.num_of_samples}'\n",
    "        return\n",
    "    \n",
    "    # else - this is not a leaf\n",
    "    parent_feature_print = 'ROOT' if parent_feature == 'ROOT' else 'X'+str(parent_feature)+'='+feature_val\n",
    "    print(spacing + left + parent_feature_print + ', feature=X'  +  str(node.feature) + right) #Bonus: + f' ** depth {node.curr_depth} sample size {node.num_of_samples}'\n",
    "    depth += 1\n",
    "    for child in node.children:\n",
    "        print_tree(\n",
    "            node=child, \n",
    "            depth=depth, \n",
    "            parent_feature=node.feature, \n",
    "            feature_val=child.split_value\n",
    "        )\n",
    "    \n",
    "    ###########################################################################\n",
    "    #                             END OF YOUR CODE                            #\n",
    "    ###########################################################################"
   ]
  },
  {
   "cell_type": "markdown",
   "metadata": {},
   "source": [
    "print the tree with the best test accuracy and with less than 50 nodes (from the two pruning methods)"
   ]
  },
  {
   "cell_type": "code",
   "execution_count": 252,
   "metadata": {},
   "outputs": [],
   "source": [
    "#### Your code here ####\n",
    "# %%time\n",
    "\n",
    "results = []\n",
    "\n",
    "\n",
    "for depth in depths:\n",
    "    curr_tree = trees_dict_depth[depth]\n",
    "    results.append({\n",
    "        'type': 'depth',\n",
    "        'value': depth,\n",
    "        'tree': curr_tree,\n",
    "        'score': calc_accuracy(curr_tree, X_test),        \n",
    "        'nodes': count_nodes(curr_tree), \n",
    "    })\n",
    "\n",
    "\n",
    "for value in min_samples_split_values:\n",
    "    curr_tree = min_samples_split_values_trees_dict[value]\n",
    "    results.append({\n",
    "        'type': 'min_samples_split',\n",
    "        'value': value,\n",
    "        'tree': curr_tree,\n",
    "        'score': calc_accuracy(curr_tree, X_test),\n",
    "        'nodes': count_nodes(curr_tree), \n",
    "    })\n"
   ]
  },
  {
   "cell_type": "code",
   "execution_count": 253,
   "metadata": {},
   "outputs": [
    {
     "name": "stdout",
     "output_type": "stream",
     "text": [
      "index 0 depth 1 score: 0.8852781880846874 nodes: 32\n",
      "index 1 depth 2 score: 0.8931560807483998 nodes: 83\n",
      "index 2 depth 3 score: 0.8956179222058099 nodes: 205\n",
      "index 3 depth 4 score: 0.8877400295420975 nodes: 422\n",
      "index 4 depth 5 score: 0.8714918759231906 nodes: 765\n",
      "index 5 depth 6 score: 0.8483505662235352 nodes: 1184\n",
      "index 6 depth 7 score: 0.8316100443131462 nodes: 1664\n",
      "index 7 depth 8 score: 0.8124076809453471 nodes: 2147\n",
      "index 8 min_samples_split 1 score: 0.7641555883801083 nodes: 3251\n",
      "index 9 min_samples_split 5 score: 0.8306253077301822 nodes: 1833\n",
      "index 10 min_samples_split 10 score: 0.8759231905465288 nodes: 1182\n",
      "index 11 min_samples_split 20 score: 0.8906942392909897 nodes: 729\n",
      "index 12 min_samples_split 50 score: 0.8951255539143279 nodes: 349\n"
     ]
    }
   ],
   "source": [
    "for index, item in enumerate(results):\n",
    "    print('index', index, item['type'], item['value'], 'score:', item['score'],'nodes:', item['nodes'])"
   ]
  },
  {
   "cell_type": "code",
   "execution_count": 254,
   "metadata": {},
   "outputs": [
    {
     "name": "stdout",
     "output_type": "stream",
     "text": [
      "[ROOT, feature=X4]\n",
      "| [X4=a, feature=X2]\n",
      "| | [X2=n, leaf]: [{'e': 33, 'p': 5}]\n",
      "| | [X2=w, leaf]: [{'e': 107, 'p': 7}]\n",
      "| | [X2=y, leaf]: [{'e': 133, 'p': 19}]\n",
      "| [X4=c, feature=X6]\n",
      "| | [X6=c, leaf]: [{'e': 7, 'p': 63}]\n",
      "| | [X6=w, leaf]: [{'e': 3, 'p': 74}]\n",
      "| [X4=f, feature=X10]\n",
      "| | [X10=f, leaf]: [{'e': 14, 'p': 91}]\n",
      "| | [X10=k, leaf]: [{'e': 134, 'p': 1037}]\n",
      "| | [X10=s, leaf]: [{'e': 22, 'p': 310}]\n",
      "| [X4=l, feature=X1]\n",
      "| | [X1=f, leaf]: [{'e': 19, 'p': 1}]\n",
      "| | [X1=s, leaf]: [{'e': 94, 'p': 16}]\n",
      "| | [X1=y, leaf]: [{'e': 159, 'p': 10}]\n",
      "| [X4=m, feature=X0]\n",
      "| | [X0=f, leaf]: [{'e': 1, 'p': 8}]\n",
      "| | [X0=k, leaf]: [{'e': 1, 'p': 10}]\n",
      "| | [X0=x, leaf]: [{'p': 7}]\n",
      "| [X4=n, feature=X7]\n",
      "| | [X7=b, leaf]: [{'e': 2197, 'p': 286}]\n",
      "| | [X7=n, leaf]: [{'e': 135, 'p': 58}]\n",
      "| [X4=p, feature=X0]\n",
      "| | [X0=f, leaf]: [{'e': 7, 'p': 86}]\n",
      "| | [X0=x, leaf]: [{'e': 1, 'p': 89}]\n",
      "| [X4=s, feature=X13]\n",
      "| | [X13=p, leaf]: [{'e': 12, 'p': 190}]\n",
      "| | [X13=w, leaf]: [{'e': 26, 'p': 190}]\n",
      "| [X4=y, feature=X1]\n",
      "| | [X1=s, leaf]: [{'e': 18, 'p': 194}]\n",
      "| | [X1=y, leaf]: [{'e': 31, 'p': 188}]\n"
     ]
    }
   ],
   "source": [
    "print_tree(\n",
    "    node=results[0]['tree'], \n",
    "    depth=0, \n",
    "    parent_feature='ROOT', \n",
    "    feature_val='ROOT'\n",
    ") "
   ]
  },
  {
   "cell_type": "code",
   "execution_count": null,
   "metadata": {},
   "outputs": [],
   "source": []
  }
 ],
 "metadata": {
  "celltoolbar": "Create Assignment",
  "kernelspec": {
   "display_name": "Python 3 (ipykernel)",
   "language": "python",
   "name": "python3"
  },
  "language_info": {
   "codemirror_mode": {
    "name": "ipython",
    "version": 3
   },
   "file_extension": ".py",
   "mimetype": "text/x-python",
   "name": "python",
   "nbconvert_exporter": "python",
   "pygments_lexer": "ipython3",
   "version": "3.8.5"
  }
 },
 "nbformat": 4,
 "nbformat_minor": 4
}
